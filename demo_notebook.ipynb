{
 "cells": [
  {
   "attachments": {},
   "cell_type": "markdown",
   "metadata": {},
   "source": [
    "## Towards an interoperatable perovskite ontology\n",
    "This notebook gives a demonstration to how to use the code in the project. <br>\n",
    "The code can be run as a standalone application using the GUI_perovskite_to_json_v2.py script"
   ]
  },
  {
   "cell_type": "code",
   "execution_count": 4,
   "metadata": {},
   "outputs": [],
   "source": [
    "import os\n",
    "import pandas as pd\n",
    "import numpy as np\n",
    "import json\n",
    "\n",
    "from perovskite_to_json_v2 import PerovskiteToJson"
   ]
  },
  {
   "attachments": {},
   "cell_type": "markdown",
   "metadata": {},
   "source": [
    "#### Filepaths to reference data"
   ]
  },
  {
   "cell_type": "code",
   "execution_count": 2,
   "metadata": {},
   "outputs": [],
   "source": [
    "path_data_ion_folder = os.path.join(os.getcwd(), \"Data_ions\")\n",
    "path_a_ions = os.path.join(path_data_ion_folder, \"A-ion_data.xlsx\")\n",
    "path_b_ions = os.path.join(path_data_ion_folder, \"B-ion_data.xlsx\")\n",
    "path_c_ions = os.path.join(path_data_ion_folder, \"C-ion_data.xlsx\")"
   ]
  },
  {
   "attachments": {},
   "cell_type": "markdown",
   "metadata": {},
   "source": [
    "#### Generate some test data"
   ]
  },
  {
   "cell_type": "code",
   "execution_count": 6,
   "metadata": {},
   "outputs": [],
   "source": [
    "# This is the data categories needed to be provided by the user\n",
    "A_ions = [\"Cs\", \"MA\", \"FA \"]\n",
    "A_coef = [0.05, 0.79, 0.18]\n",
    "B_ions = [\"Pb\"]\n",
    "B_coef = [1]\n",
    "C_ions = [\"Br\", \"I\"]\n",
    "C_coef = [0.5, 2.5]\n",
    "Eg = 1.63\n",
    "Dimensionality = \"3D\"\n",
    "Additives = [\"RbI\", \"PbI2\"]\n",
    "\n",
    "# Path for saving data\n",
    "filepath = os.path.join(os.getcwd(), \"test.json\")"
   ]
  },
  {
   "attachments": {},
   "cell_type": "markdown",
   "metadata": {},
   "source": [
    "### Generate a perovskite object based on the test data"
   ]
  },
  {
   "cell_type": "code",
   "execution_count": 7,
   "metadata": {},
   "outputs": [],
   "source": [
    "# All arguments are keyword arguments with sensible defaults (i.e. empty lists and the current working directory)\n",
    "perovskite = PerovskiteToJson(A_ions=A_ions, \n",
    "                                A_coef=A_coef, \n",
    "                                B_ions=B_ions, \n",
    "                                B_coef=B_coef, \n",
    "                                C_ions=C_ions, \n",
    "                                C_coef=C_coef, \n",
    "                                Eg=Eg, \n",
    "                                Dimensionality=Dimensionality, \n",
    "                                Additives=Additives, \n",
    "                                filepath=filepath)"
   ]
  },
  {
   "cell_type": "code",
   "execution_count": 10,
   "metadata": {},
   "outputs": [
    {
     "name": "stdout",
     "output_type": "stream",
     "text": [
      "dict_keys(['A_ions', 'A_coef', 'B_ions', 'B_coef', 'C_ions', 'C_coef', 'Eg', 'Dimensionality', 'Additives', 'path', 'short_formula', 'long_formula', 'A_common_names', 'A_iupac_names', 'A_SMILES', 'A_molecular_formula', 'A_cas_numbers', 'A_parent_smiles', 'A_parent_iupac', 'A_parent_cas', 'B_common_names', 'B_iupac_names', 'B_SMILES', 'B_molecular_formula', 'B_cas_numbers', 'B_parent_smiles', 'B_parent_iupac', 'B_parent_cas', 'C_common_names', 'C_iupac_names', 'C_SMILES', 'C_molecular_formula', 'C_cas_numbers', 'C_parent_smiles', 'C_parent_iupac', 'C_parent_cas', 'json'])\n"
     ]
    }
   ],
   "source": [
    "# List of the attributes to the perovksite object\n",
    "print(perovskite.__dict__.keys())"
   ]
  },
  {
   "cell_type": "code",
   "execution_count": 15,
   "metadata": {},
   "outputs": [
    {
     "name": "stdout",
     "output_type": "stream",
     "text": [
      "Perovskite: Cs0.05FA0.18MA0.79PbBr0.5I2.5\n",
      "SMILES: ['[Cs+]', 'C(=[NH2+])N', 'C[NH3+]']\n",
      "IUPAC names: ['Cesium(1+)', 'aminomethylideneazanium', 'methylazanium']\n"
     ]
    }
   ],
   "source": [
    "# Get the perovsktie composition, SMILE strings, and IUPAC names for the A-ions\n",
    "print(f\"Perovskite: {perovskite.long_formula}\")\n",
    "print(f\"SMILES: {perovskite.A_SMILES}\")\n",
    "print(f\"IUPAC names: {perovskite.A_iupac_names}\")"
   ]
  },
  {
   "attachments": {},
   "cell_type": "markdown",
   "metadata": {},
   "source": [
    "### Convert the perovskite object to .json"
   ]
  },
  {
   "cell_type": "code",
   "execution_count": 19,
   "metadata": {},
   "outputs": [
    {
     "name": "stdout",
     "output_type": "stream",
     "text": [
      "{\n",
      "    \"Perovskite family\": \"CsFAMAPbBrI\",\n",
      "    \"Perovskite composition\": \"Cs0.05FA0.18MA0.79PbBr0.5I2.5\",\n",
      "    \"Band gap\": 1.63,\n",
      "    \"Dimensionality\": \"3D\",\n",
      "    \"A_ions\": [\n",
      "        \"Cs\",\n",
      "        \"FA\",\n",
      "        \"MA\"\n",
      "    ],\n",
      "    \"A_coef\": [\n",
      "        0.05,\n",
      "        0.18,\n",
      "        0.79\n",
      "    ],\n",
      "    \"A_SMILES\": [\n",
      "        \"[Cs+]\",\n",
      "        \"C(=[NH2+])N\",\n",
      "        \"C[NH3+]\"\n",
      "    ],\n",
      "    \"A_molecular_formula\": [\n",
      "        \"Cs+\",\n",
      "        \"CH5N2+\",\n",
      "        \"CH6N+\"\n",
      "    ],\n",
      "    \"A_IUPAC_names\": [\n",
      "        \"Cesium ion\",\n",
      "        \"Formamidinium\",\n",
      "        \"Methylammonium\"\n",
      "    ],\n",
      "    \"A_common_names\": [\n",
      "        \"Cesium ion\",\n",
      "        \"Formamidinium\",\n",
      "        \"Methylammonium\"\n",
      "    ],\n",
      "    \"A_cas_numbers\": [\n",
      "        \"18459-37-5\",\n",
      "        \"nan\",\n",
      "        \"17000-00-9\"\n",
      "    ],\n",
      "    \"A_parent_SMILES\": [\n",
      "        \"[Cs]\",\n",
      "        \"C(=N)N\",\n",
      "        \"CN\"\n",
      "    ],\n",
      "    \"A_parent_IUPAC_names\": [\n",
      "        \"Cesium\",\n",
      "        \"methanimidamide\",\n",
      "        \"methanamine\"\n",
      "    ],\n",
      "    \"A_parent_cas_numbers\": [\n",
      "        \"7440-46-2\",\n",
      "        \"463-52-5\",\n",
      "        \"74-89-5\"\n",
      "    ],\n",
      "    \"B_ions\": [\n",
      "        \"Pb\"\n",
      "    ],\n",
      "    \"B_coef\": [\n",
      "        1\n",
      "    ],\n",
      "    \"B_SMILES\": [\n",
      "        \"[Pb+2]\"\n",
      "    ],\n",
      "    \"B_molecular_formula\": [\n",
      "        \"Pb2+\"\n",
      "    ],\n",
      "    \"B_IUPAC_names\": [\n",
      "        \"Lead\"\n",
      "    ],\n",
      "    \"B_common_names\": [\n",
      "        \"Lead\"\n",
      "    ],\n",
      "    \"B_cas_numbers\": [\n",
      "        \"14280-50-3\"\n",
      "    ],\n",
      "    \"B_parent_SMILES\": [\n",
      "        \"[Pb]\"\n",
      "    ],\n",
      "    \"B_parent_IUPAC_names\": [\n",
      "        \"Lead\"\n",
      "    ],\n",
      "    \"B_parent_cas_numbers\": [\n",
      "        \"7439-92-1\"\n",
      "    ],\n",
      "    \"C_ions\": [\n",
      "        \"Br\",\n",
      "        \"I\"\n",
      "    ],\n",
      "    \"C_coef\": [\n",
      "        0.5,\n",
      "        2.5\n",
      "    ],\n",
      "    \"C_SMILES\": [\n",
      "        \"[Br-]\",\n",
      "        \"[I-]\"\n",
      "    ],\n",
      "    \"C_molecular_formula\": [\n",
      "        \"Br-\",\n",
      "        \"I-\"\n",
      "    ],\n",
      "    \"C_IUPAC_names\": [\n",
      "        \"Bromide\",\n",
      "        \"Iodide\"\n",
      "    ],\n",
      "    \"C_common_names\": [\n",
      "        \"Bromide\",\n",
      "        \"Iodide\"\n",
      "    ],\n",
      "    \"C_cas_numbers\": [\n",
      "        \"24959-67-9\",\n",
      "        \"20461-54-5\"\n",
      "    ],\n",
      "    \"C_parent_SMILES\": [\n",
      "        \"BrBr\",\n",
      "        \"II\"\n",
      "    ],\n",
      "    \"C_parent_IUPAC_names\": [\n",
      "        \"molecular bromine\",\n",
      "        \"molecular iodine\"\n",
      "    ],\n",
      "    \"C_parent_cas_numbers\": [\n",
      "        \"7726-95-6\",\n",
      "        \"7553-56-2\"\n",
      "    ],\n",
      "    \"Additives\": [\n",
      "        \"RbI\",\n",
      "        \"PbI2\"\n",
      "    ]\n",
      "}\n"
     ]
    }
   ],
   "source": [
    "# Convert to json format\n",
    "json_data = perovskite.json\n",
    "\n",
    "#Display json format\n",
    "print(json_data)"
   ]
  },
  {
   "attachments": {},
   "cell_type": "markdown",
   "metadata": {},
   "source": [
    "### Save data to file"
   ]
  },
  {
   "cell_type": "code",
   "execution_count": 21,
   "metadata": {},
   "outputs": [],
   "source": [
    "perovskite.save_data(file_path = os.path.join(os.getcwd(), \"test.json\"))"
   ]
  }
 ],
 "metadata": {
  "kernelspec": {
   "display_name": "perovskiteontology",
   "language": "python",
   "name": "python3"
  },
  "language_info": {
   "codemirror_mode": {
    "name": "ipython",
    "version": 3
   },
   "file_extension": ".py",
   "mimetype": "text/x-python",
   "name": "python",
   "nbconvert_exporter": "python",
   "pygments_lexer": "ipython3",
   "version": "3.10.11"
  },
  "orig_nbformat": 4
 },
 "nbformat": 4,
 "nbformat_minor": 2
}
